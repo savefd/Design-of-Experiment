{
 "cells": [
  {
   "cell_type": "code",
   "execution_count": 12,
   "metadata": {
    "tags": []
   },
   "outputs": [
    {
     "output_type": "stream",
     "name": "stdout",
     "text": "3.7.6 (tags/v3.7.6:43364a7ae0, Dec 19 2019, 00:42:30) [MSC v.1916 64 bit (AMD64)]\nMatplotlib version 3.1.2\nNumpy version 1.18.1\nPandas version 0.25.3\nScipy version 1.4.1\nSeaborn version 0.10.0\nStatsmodels version 0.11.1\nSklearn version 0.22.1\n\nSet Pandas float printout to three digits ... \n\n\nEnabling interactive shell outputs ...\n   Use command pass; to disable cell text outputs\n\nSetting seaborn and matplotlib graphic parameters ...\n\n\nLoad custom statistics functions  ... \ncheck_anova_normality(group, x)  ...\ncheck_normality(x)  ...\ngen_factorial_matrix(num_factors, interaction=True, num_replications=1)  ...\ncheck_linreg_residuals(model)  ...\nlr_logit_test(model)  ...\npseudo_r2(model, y)  ...\ngof_logit_test(model, y)  ...\n"
    }
   ],
   "source": [
    "%run load-packages.ipynb\n",
    "%run stats-libs.ipynb"
   ]
  },
  {
   "source": [
    "# 3)\n",
    "The effect of five different ingredient (A, B, C, D, E) on the reaction time of a chemical process is being studied. Each batch of new material is only large enough to permit five runs to be made. furthermore, each run requires approximately $\\displaystyle 1\\frac{1}{2}$ hours, so only five runs can be made in one day. The experimenter decides to run the experiment as a Latin square so that day and batch effects may be systematically controlled. She obtains the data that follow. Analyzed the data from this experiment (use $\\alpha = 0.05$) and draw conclusions."
   ],
   "cell_type": "markdown",
   "metadata": {}
  },
  {
   "source": [
    "## load dataset"
   ],
   "cell_type": "markdown",
   "metadata": {}
  },
  {
   "cell_type": "code",
   "execution_count": 13,
   "metadata": {},
   "outputs": [
    {
     "output_type": "execute_result",
     "data": {
      "text/plain": "    Time  Batch  Day Ingredients\n0      8      1    1           A\n1      7      1    2           B\n2      1      1    3           D\n3      7      1    4           C\n4      3      1    5           E\n5     11      2    1           C\n6      2      2    2           E\n7      7      2    3           A\n8      3      2    4           D\n9      8      2    5           B\n10     4      3    1           B\n11     9      3    2           A\n12    10      3    3           C\n13     1      3    4           E\n14     5      3    5           D\n15     6      4    1           D\n16     8      4    2           C\n17     6      4    3           E\n18     6      4    4           B\n19    10      4    5           A\n20     4      5    1           E\n21     2      5    2           D\n22     3      5    3           B\n23     8      5    4           A\n24     8      5    5           C",
      "text/html": "<div>\n<style scoped>\n    .dataframe tbody tr th:only-of-type {\n        vertical-align: middle;\n    }\n\n    .dataframe tbody tr th {\n        vertical-align: top;\n    }\n\n    .dataframe thead th {\n        text-align: right;\n    }\n</style>\n<table border=\"1\" class=\"dataframe\">\n  <thead>\n    <tr style=\"text-align: right;\">\n      <th></th>\n      <th>Time</th>\n      <th>Batch</th>\n      <th>Day</th>\n      <th>Ingredients</th>\n    </tr>\n  </thead>\n  <tbody>\n    <tr>\n      <th>0</th>\n      <td>8</td>\n      <td>1</td>\n      <td>1</td>\n      <td>A</td>\n    </tr>\n    <tr>\n      <th>1</th>\n      <td>7</td>\n      <td>1</td>\n      <td>2</td>\n      <td>B</td>\n    </tr>\n    <tr>\n      <th>2</th>\n      <td>1</td>\n      <td>1</td>\n      <td>3</td>\n      <td>D</td>\n    </tr>\n    <tr>\n      <th>3</th>\n      <td>7</td>\n      <td>1</td>\n      <td>4</td>\n      <td>C</td>\n    </tr>\n    <tr>\n      <th>4</th>\n      <td>3</td>\n      <td>1</td>\n      <td>5</td>\n      <td>E</td>\n    </tr>\n    <tr>\n      <th>5</th>\n      <td>11</td>\n      <td>2</td>\n      <td>1</td>\n      <td>C</td>\n    </tr>\n    <tr>\n      <th>6</th>\n      <td>2</td>\n      <td>2</td>\n      <td>2</td>\n      <td>E</td>\n    </tr>\n    <tr>\n      <th>7</th>\n      <td>7</td>\n      <td>2</td>\n      <td>3</td>\n      <td>A</td>\n    </tr>\n    <tr>\n      <th>8</th>\n      <td>3</td>\n      <td>2</td>\n      <td>4</td>\n      <td>D</td>\n    </tr>\n    <tr>\n      <th>9</th>\n      <td>8</td>\n      <td>2</td>\n      <td>5</td>\n      <td>B</td>\n    </tr>\n    <tr>\n      <th>10</th>\n      <td>4</td>\n      <td>3</td>\n      <td>1</td>\n      <td>B</td>\n    </tr>\n    <tr>\n      <th>11</th>\n      <td>9</td>\n      <td>3</td>\n      <td>2</td>\n      <td>A</td>\n    </tr>\n    <tr>\n      <th>12</th>\n      <td>10</td>\n      <td>3</td>\n      <td>3</td>\n      <td>C</td>\n    </tr>\n    <tr>\n      <th>13</th>\n      <td>1</td>\n      <td>3</td>\n      <td>4</td>\n      <td>E</td>\n    </tr>\n    <tr>\n      <th>14</th>\n      <td>5</td>\n      <td>3</td>\n      <td>5</td>\n      <td>D</td>\n    </tr>\n    <tr>\n      <th>15</th>\n      <td>6</td>\n      <td>4</td>\n      <td>1</td>\n      <td>D</td>\n    </tr>\n    <tr>\n      <th>16</th>\n      <td>8</td>\n      <td>4</td>\n      <td>2</td>\n      <td>C</td>\n    </tr>\n    <tr>\n      <th>17</th>\n      <td>6</td>\n      <td>4</td>\n      <td>3</td>\n      <td>E</td>\n    </tr>\n    <tr>\n      <th>18</th>\n      <td>6</td>\n      <td>4</td>\n      <td>4</td>\n      <td>B</td>\n    </tr>\n    <tr>\n      <th>19</th>\n      <td>10</td>\n      <td>4</td>\n      <td>5</td>\n      <td>A</td>\n    </tr>\n    <tr>\n      <th>20</th>\n      <td>4</td>\n      <td>5</td>\n      <td>1</td>\n      <td>E</td>\n    </tr>\n    <tr>\n      <th>21</th>\n      <td>2</td>\n      <td>5</td>\n      <td>2</td>\n      <td>D</td>\n    </tr>\n    <tr>\n      <th>22</th>\n      <td>3</td>\n      <td>5</td>\n      <td>3</td>\n      <td>B</td>\n    </tr>\n    <tr>\n      <th>23</th>\n      <td>8</td>\n      <td>5</td>\n      <td>4</td>\n      <td>A</td>\n    </tr>\n    <tr>\n      <th>24</th>\n      <td>8</td>\n      <td>5</td>\n      <td>5</td>\n      <td>C</td>\n    </tr>\n  </tbody>\n</table>\n</div>"
     },
     "metadata": {},
     "execution_count": 13
    }
   ],
   "source": [
    "df4 = pd.read_excel('data\\\\HW1-Dataset.xlsx',sheet_name = 'Ingredients-Time',header = 0)\n",
    "df4"
   ]
  },
  {
   "cell_type": "code",
   "execution_count": 14,
   "metadata": {},
   "outputs": [
    {
     "output_type": "execute_result",
     "data": {
      "text/plain": "5"
     },
     "metadata": {},
     "execution_count": 14
    },
    {
     "output_type": "execute_result",
     "data": {
      "text/plain": "25"
     },
     "metadata": {},
     "execution_count": 14
    },
    {
     "output_type": "execute_result",
     "data": {
      "text/plain": "147"
     },
     "metadata": {},
     "execution_count": 14
    }
   ],
   "source": [
    "p = len(df4.Ingredients.unique())\n",
    "N = p*p\n",
    "y = df4.Time\n",
    "total_y = np.sum(y)\n",
    "p\n",
    "N\n",
    "total_y"
   ]
  },
  {
   "source": [
    "## find sum of square and mean square of treatment,batch and day"
   ],
   "cell_type": "markdown",
   "metadata": {}
  },
  {
   "cell_type": "code",
   "execution_count": 15,
   "metadata": {},
   "outputs": [
    {
     "output_type": "execute_result",
     "data": {
      "text/plain": "(141.44000000000005, 35.360000000000014)"
     },
     "metadata": {},
     "execution_count": 15
    }
   ],
   "source": [
    "y_ing = df4.groupby('Ingredients').aggregate({'Time':'sum'}).Time\n",
    "SS = np.sum(y_ing**2)\n",
    "SSTr = (1/p)*SS - (total_y**2)/N\n",
    "MSTr = SSTr/(p-1)\n",
    "SSTr, MSTr"
   ]
  },
  {
   "cell_type": "code",
   "execution_count": 16,
   "metadata": {},
   "outputs": [
    {
     "output_type": "execute_result",
     "data": {
      "text/plain": "(15.440000000000055, 3.8600000000000136)"
     },
     "metadata": {},
     "execution_count": 16
    }
   ],
   "source": [
    "y_row = df4.groupby('Batch').aggregate({'Time':'sum'}).Time\n",
    "SS = np.sum(y_row**2)\n",
    "SSRow = (1/p)*SS - (total_y**2)/N\n",
    "MSRow = SSRow/(p-1)\n",
    "SSRow,MSRow"
   ]
  },
  {
   "cell_type": "code",
   "execution_count": 17,
   "metadata": {},
   "outputs": [
    {
     "output_type": "execute_result",
     "data": {
      "text/plain": "(12.240000000000009, 3.0600000000000023)"
     },
     "metadata": {},
     "execution_count": 17
    }
   ],
   "source": [
    "y_col = df4.groupby('Day').aggregate({'Time':'sum'}).Time\n",
    "SS = np.sum(y_col**2)\n",
    "SScol = (1/p)*SS - (total_y**2)/N\n",
    "MScol = SScol/(p-1)\n",
    "SScol,MScol"
   ]
  },
  {
   "source": [
    "## find sum of square error and mean of square error"
   ],
   "cell_type": "markdown",
   "metadata": {}
  },
  {
   "cell_type": "code",
   "execution_count": 18,
   "metadata": {},
   "outputs": [
    {
     "output_type": "execute_result",
     "data": {
      "text/plain": "(37.51999999999987, 3.126666666666656)"
     },
     "metadata": {},
     "execution_count": 18
    }
   ],
   "source": [
    "SST = np.sum(y**2) - (total_y**2)/N\n",
    "SSE = SST - SSTr - SSRow - SScol\n",
    "MSE = SSE/((p-2)*(p-1))\n",
    "SSE,MSE"
   ]
  },
  {
   "source": [
    "## all of SS,MS and  F0,P-value"
   ],
   "cell_type": "markdown",
   "metadata": {}
  },
  {
   "cell_type": "code",
   "execution_count": 19,
   "metadata": {
    "tags": []
   },
   "outputs": [
    {
     "output_type": "stream",
     "name": "stdout",
     "text": "SST = 206.6, SSTr = 141.4, SSRow = 15.4, SSCcol = 12.2, SSE = 37.5\nMSTr = 35.4, MSRow = 3.9, MScol = 3.1, MSE = 3.1\nCritical value at 0.05 = 3.26\nF0 = 11.309, P-value = 0.000\n"
    }
   ],
   "source": [
    "print(\"SST = {:.1f}, SSTr = {:.1f}, SSRow = {:.1f}, SSCcol = {:.1f}, SSE = {:.1f}\".format(SST, SSTr, SSRow, SScol, SSE))\n",
    "print(\"MSTr = {:.1f}, MSRow = {:.1f}, MScol = {:.1f}, MSE = {:.1f}\".format(MSTr, MSRow, MScol, MSE))\n",
    "F0 = MSTr/MSE\n",
    "alpha=0.05\n",
    "p_val = stats.f.sf(F0, p-1,(p-2)*(p-1))\n",
    "crit_val = stats.f.isf(0.05, p-1, (p-2)*(p-1))\n",
    "print(\"Critical value at {:.2f} = {:.2f}\".format(alpha, crit_val))\n",
    "print(\"F0 = {:.3f}, P-value = {:.3f}\".format(F0, p_val))"
   ]
  },
  {
   "source": [
    "The results shows that F-statistics $\\displaystyle F_0 = \\frac{MS_{TR}}{MS_{E}}$ for testing treatment effect by comparing with $F(p-1,(p-1)(p-2))$ is more than critical value. It can summary that there are treatment effect in this dataset due to a rejection of hypothesis $H_0: \\tau_i = 0;\\quad H_1: \\tau_i \\neq 0$."
   ],
   "cell_type": "markdown",
   "metadata": {}
  },
  {
   "source": [
    "## Tukey HSD test"
   ],
   "cell_type": "markdown",
   "metadata": {}
  },
  {
   "cell_type": "code",
   "execution_count": 20,
   "metadata": {},
   "outputs": [
    {
     "output_type": "execute_result",
     "data": {
      "text/plain": "Ingredients\nA   8.400\nB   5.600\nC   8.800\nD   3.400\nE   3.200\nName: Time, dtype: float64"
     },
     "metadata": {},
     "execution_count": 20
    }
   ],
   "source": [
    "group_mean = df4.groupby('Ingredients').aggregate({'Time':'mean'}).Time\n",
    "group_mean"
   ]
  },
  {
   "cell_type": "code",
   "execution_count": 21,
   "metadata": {},
   "outputs": [
    {
     "output_type": "execute_result",
     "data": {
      "text/plain": "  group1 group2  meandiff  lower  upper reject\n0      A      B    -2.800 -5.901  0.301  False\n1      A      C     0.400 -2.701  3.501  False\n2      A      D    -5.000 -8.101 -1.899   True\n3      A      E    -5.200 -8.301 -2.099   True\n4      B      C     3.200  0.099  6.301   True\n5      B      D    -2.200 -5.301  0.901  False\n6      B      E    -2.400 -5.501  0.701  False\n7      C      D    -5.400 -8.501 -2.299   True\n8      C      E    -5.600 -8.701 -2.499   True\n9      D      E    -0.200 -3.301  2.901  False",
      "text/html": "<div>\n<style scoped>\n    .dataframe tbody tr th:only-of-type {\n        vertical-align: middle;\n    }\n\n    .dataframe tbody tr th {\n        vertical-align: top;\n    }\n\n    .dataframe thead th {\n        text-align: right;\n    }\n</style>\n<table border=\"1\" class=\"dataframe\">\n  <thead>\n    <tr style=\"text-align: right;\">\n      <th></th>\n      <th>group1</th>\n      <th>group2</th>\n      <th>meandiff</th>\n      <th>lower</th>\n      <th>upper</th>\n      <th>reject</th>\n    </tr>\n  </thead>\n  <tbody>\n    <tr>\n      <th>0</th>\n      <td>A</td>\n      <td>B</td>\n      <td>-2.800</td>\n      <td>-5.901</td>\n      <td>0.301</td>\n      <td>False</td>\n    </tr>\n    <tr>\n      <th>1</th>\n      <td>A</td>\n      <td>C</td>\n      <td>0.400</td>\n      <td>-2.701</td>\n      <td>3.501</td>\n      <td>False</td>\n    </tr>\n    <tr>\n      <th>2</th>\n      <td>A</td>\n      <td>D</td>\n      <td>-5.000</td>\n      <td>-8.101</td>\n      <td>-1.899</td>\n      <td>True</td>\n    </tr>\n    <tr>\n      <th>3</th>\n      <td>A</td>\n      <td>E</td>\n      <td>-5.200</td>\n      <td>-8.301</td>\n      <td>-2.099</td>\n      <td>True</td>\n    </tr>\n    <tr>\n      <th>4</th>\n      <td>B</td>\n      <td>C</td>\n      <td>3.200</td>\n      <td>0.099</td>\n      <td>6.301</td>\n      <td>True</td>\n    </tr>\n    <tr>\n      <th>5</th>\n      <td>B</td>\n      <td>D</td>\n      <td>-2.200</td>\n      <td>-5.301</td>\n      <td>0.901</td>\n      <td>False</td>\n    </tr>\n    <tr>\n      <th>6</th>\n      <td>B</td>\n      <td>E</td>\n      <td>-2.400</td>\n      <td>-5.501</td>\n      <td>0.701</td>\n      <td>False</td>\n    </tr>\n    <tr>\n      <th>7</th>\n      <td>C</td>\n      <td>D</td>\n      <td>-5.400</td>\n      <td>-8.501</td>\n      <td>-2.299</td>\n      <td>True</td>\n    </tr>\n    <tr>\n      <th>8</th>\n      <td>C</td>\n      <td>E</td>\n      <td>-5.600</td>\n      <td>-8.701</td>\n      <td>-2.499</td>\n      <td>True</td>\n    </tr>\n    <tr>\n      <th>9</th>\n      <td>D</td>\n      <td>E</td>\n      <td>-0.200</td>\n      <td>-3.301</td>\n      <td>2.901</td>\n      <td>False</td>\n    </tr>\n  </tbody>\n</table>\n</div>"
     },
     "metadata": {},
     "execution_count": 21
    }
   ],
   "source": [
    "from statsmodels.stats.libqsturng import psturng, qsturng\n",
    "margin_err = qsturng(0.90, p, (p-2)*(p-1))*np.sqrt(MSE/p)\n",
    "import itertools\n",
    "allpairs=list(itertools.combinations(sorted(df4.Ingredients.unique()),2))\n",
    "tukey_df = pd.DataFrame(allpairs, columns={'group1','group2'})\n",
    "tukey_df['meandiff'] = tukey_df.apply(lambda x: group_mean[x['group2']] - group_mean[x['group1']], axis=1)\n",
    "tukey_df['lower'] = tukey_df.apply(lambda x: x['meandiff'] - margin_err, axis=1)\n",
    "tukey_df['upper'] = tukey_df.apply(lambda x: x['meandiff'] + margin_err, axis=1)\n",
    "tukey_df['reject'] = tukey_df.apply(lambda x: 'False' if x['lower'] < 0 and x['upper'] > 0 else 'True', axis=1)\n",
    "tukey_df"
   ]
  },
  {
   "source": [
    "From the results as shown, there are 5 of 10 pairs that have significantly different mean. These are, A and D, A and E, B and C, C and D, C and E."
   ],
   "cell_type": "markdown",
   "metadata": {}
  },
  {
   "source": [
    "## Efficiency of blocking variables"
   ],
   "cell_type": "markdown",
   "metadata": {}
  },
  {
   "cell_type": "code",
   "execution_count": 22,
   "metadata": {
    "tags": []
   },
   "outputs": [
    {
     "output_type": "stream",
     "name": "stdout",
     "text": "E1 = 1.04, E2 = 1.00, E3 = 1.05\n"
    }
   ],
   "source": [
    "E1 = (MSRow+MScol+(p-1)*MSE)/((p+1)*MSE)\n",
    "E2 = (MScol+(p-1)*MSE)/(p*MSE)\n",
    "E3 = (MSRow+(p-1)*MSE)/(p*MSE)\n",
    "print('E1 = {:.2f}, E2 = {:.2f}, E3 = {:.2f}'.format(E1,E2,E3))"
   ]
  },
  {
   "source": [
    "The blocking efficiency in these blockings are relatively equal."
   ],
   "cell_type": "markdown",
   "metadata": {}
  }
 ],
 "metadata": {
  "kernelspec": {
   "display_name": "Python 3",
   "language": "python",
   "name": "python3"
  },
  "language_info": {
   "codemirror_mode": {
    "name": "ipython",
    "version": 3
   },
   "file_extension": ".py",
   "mimetype": "text/x-python",
   "name": "python",
   "nbconvert_exporter": "python",
   "pygments_lexer": "ipython3",
   "version": "3.7.6-final"
  }
 },
 "nbformat": 4,
 "nbformat_minor": 4
}