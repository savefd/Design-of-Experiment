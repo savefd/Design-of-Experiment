{
 "cells": [
  {
   "cell_type": "code",
   "execution_count": 1,
   "metadata": {},
   "outputs": [],
   "source": [
    "import pandas as pd\n",
    "import numpy as np\n",
    "import statsmodels.api as sm"
   ]
  },
  {
   "cell_type": "markdown",
   "metadata": {},
   "source": [
    "<h1>1)</h1>\n",
    "\n",
    "A sample of 25 brands of cigarette has been tested for tar and nicotine contents, carbonmonoxide (mgs) emitted by\n",
    "cigarette smoke, and cigarette weight (g). Past studies have shown that the amount CO emitted increases with the\n",
    "tar and nicotine content.\n",
    "\n",
    "a) Model the CO emitted by cigratte as a linear function of the other three quantities. Which variables are significant and\n",
    "not significant in the model ? What are the fitted model coefficients ?\n",
    "\n",
    "b) Remove the most significant variable in a) and refit the model. How do the model coefficients and your conclusion\n",
    "about the significance of variables change compared to a) ? "
   ]
  },
  {
   "cell_type": "code",
   "execution_count": 2,
   "metadata": {
    "scrolled": true
   },
   "outputs": [
    {
     "data": {
      "text/html": [
       "<div>\n",
       "<style scoped>\n",
       "    .dataframe tbody tr th:only-of-type {\n",
       "        vertical-align: middle;\n",
       "    }\n",
       "\n",
       "    .dataframe tbody tr th {\n",
       "        vertical-align: top;\n",
       "    }\n",
       "\n",
       "    .dataframe thead th {\n",
       "        text-align: right;\n",
       "    }\n",
       "</style>\n",
       "<table border=\"1\" class=\"dataframe\">\n",
       "  <thead>\n",
       "    <tr style=\"text-align: right;\">\n",
       "      <th></th>\n",
       "      <th>TAR</th>\n",
       "      <th>NICOTINE</th>\n",
       "      <th>WEIGHT</th>\n",
       "      <th>CO</th>\n",
       "    </tr>\n",
       "  </thead>\n",
       "  <tbody>\n",
       "    <tr>\n",
       "      <th>0</th>\n",
       "      <td>14.1</td>\n",
       "      <td>0.86</td>\n",
       "      <td>0.9853</td>\n",
       "      <td>13.6</td>\n",
       "    </tr>\n",
       "    <tr>\n",
       "      <th>1</th>\n",
       "      <td>16.0</td>\n",
       "      <td>1.06</td>\n",
       "      <td>1.0938</td>\n",
       "      <td>16.6</td>\n",
       "    </tr>\n",
       "    <tr>\n",
       "      <th>2</th>\n",
       "      <td>29.8</td>\n",
       "      <td>2.03</td>\n",
       "      <td>1.1650</td>\n",
       "      <td>23.5</td>\n",
       "    </tr>\n",
       "    <tr>\n",
       "      <th>3</th>\n",
       "      <td>8.0</td>\n",
       "      <td>0.67</td>\n",
       "      <td>0.9280</td>\n",
       "      <td>10.2</td>\n",
       "    </tr>\n",
       "    <tr>\n",
       "      <th>4</th>\n",
       "      <td>4.1</td>\n",
       "      <td>0.40</td>\n",
       "      <td>0.9462</td>\n",
       "      <td>5.4</td>\n",
       "    </tr>\n",
       "    <tr>\n",
       "      <th>5</th>\n",
       "      <td>15.0</td>\n",
       "      <td>1.04</td>\n",
       "      <td>0.8885</td>\n",
       "      <td>15.0</td>\n",
       "    </tr>\n",
       "    <tr>\n",
       "      <th>6</th>\n",
       "      <td>8.8</td>\n",
       "      <td>0.76</td>\n",
       "      <td>1.0267</td>\n",
       "      <td>9.0</td>\n",
       "    </tr>\n",
       "    <tr>\n",
       "      <th>7</th>\n",
       "      <td>12.4</td>\n",
       "      <td>0.95</td>\n",
       "      <td>0.9225</td>\n",
       "      <td>12.3</td>\n",
       "    </tr>\n",
       "    <tr>\n",
       "      <th>8</th>\n",
       "      <td>16.6</td>\n",
       "      <td>1.12</td>\n",
       "      <td>0.9372</td>\n",
       "      <td>16.3</td>\n",
       "    </tr>\n",
       "    <tr>\n",
       "      <th>9</th>\n",
       "      <td>14.9</td>\n",
       "      <td>1.02</td>\n",
       "      <td>0.8858</td>\n",
       "      <td>15.4</td>\n",
       "    </tr>\n",
       "    <tr>\n",
       "      <th>10</th>\n",
       "      <td>13.7</td>\n",
       "      <td>1.01</td>\n",
       "      <td>0.9643</td>\n",
       "      <td>13.0</td>\n",
       "    </tr>\n",
       "    <tr>\n",
       "      <th>11</th>\n",
       "      <td>15.1</td>\n",
       "      <td>0.90</td>\n",
       "      <td>0.9316</td>\n",
       "      <td>14.4</td>\n",
       "    </tr>\n",
       "    <tr>\n",
       "      <th>12</th>\n",
       "      <td>7.8</td>\n",
       "      <td>0.57</td>\n",
       "      <td>0.9705</td>\n",
       "      <td>10.0</td>\n",
       "    </tr>\n",
       "    <tr>\n",
       "      <th>13</th>\n",
       "      <td>11.4</td>\n",
       "      <td>0.78</td>\n",
       "      <td>1.1240</td>\n",
       "      <td>10.2</td>\n",
       "    </tr>\n",
       "    <tr>\n",
       "      <th>14</th>\n",
       "      <td>9.0</td>\n",
       "      <td>0.74</td>\n",
       "      <td>0.8517</td>\n",
       "      <td>9.5</td>\n",
       "    </tr>\n",
       "    <tr>\n",
       "      <th>15</th>\n",
       "      <td>1.0</td>\n",
       "      <td>0.13</td>\n",
       "      <td>0.7851</td>\n",
       "      <td>1.5</td>\n",
       "    </tr>\n",
       "    <tr>\n",
       "      <th>16</th>\n",
       "      <td>17.0</td>\n",
       "      <td>1.26</td>\n",
       "      <td>0.9186</td>\n",
       "      <td>18.5</td>\n",
       "    </tr>\n",
       "    <tr>\n",
       "      <th>17</th>\n",
       "      <td>12.8</td>\n",
       "      <td>1.08</td>\n",
       "      <td>1.0395</td>\n",
       "      <td>12.6</td>\n",
       "    </tr>\n",
       "    <tr>\n",
       "      <th>18</th>\n",
       "      <td>15.8</td>\n",
       "      <td>0.96</td>\n",
       "      <td>0.9573</td>\n",
       "      <td>17.5</td>\n",
       "    </tr>\n",
       "    <tr>\n",
       "      <th>19</th>\n",
       "      <td>4.5</td>\n",
       "      <td>0.42</td>\n",
       "      <td>0.9106</td>\n",
       "      <td>4.9</td>\n",
       "    </tr>\n",
       "    <tr>\n",
       "      <th>20</th>\n",
       "      <td>14.5</td>\n",
       "      <td>1.01</td>\n",
       "      <td>1.0070</td>\n",
       "      <td>15.9</td>\n",
       "    </tr>\n",
       "    <tr>\n",
       "      <th>21</th>\n",
       "      <td>7.3</td>\n",
       "      <td>0.61</td>\n",
       "      <td>0.9806</td>\n",
       "      <td>8.5</td>\n",
       "    </tr>\n",
       "    <tr>\n",
       "      <th>22</th>\n",
       "      <td>8.6</td>\n",
       "      <td>0.69</td>\n",
       "      <td>0.9693</td>\n",
       "      <td>10.6</td>\n",
       "    </tr>\n",
       "    <tr>\n",
       "      <th>23</th>\n",
       "      <td>15.2</td>\n",
       "      <td>1.02</td>\n",
       "      <td>0.9496</td>\n",
       "      <td>13.9</td>\n",
       "    </tr>\n",
       "    <tr>\n",
       "      <th>24</th>\n",
       "      <td>12.0</td>\n",
       "      <td>0.82</td>\n",
       "      <td>1.1184</td>\n",
       "      <td>14.9</td>\n",
       "    </tr>\n",
       "  </tbody>\n",
       "</table>\n",
       "</div>"
      ],
      "text/plain": [
       "     TAR  NICOTINE  WEIGHT    CO\n",
       "0   14.1      0.86  0.9853  13.6\n",
       "1   16.0      1.06  1.0938  16.6\n",
       "2   29.8      2.03  1.1650  23.5\n",
       "3    8.0      0.67  0.9280  10.2\n",
       "4    4.1      0.40  0.9462   5.4\n",
       "5   15.0      1.04  0.8885  15.0\n",
       "6    8.8      0.76  1.0267   9.0\n",
       "7   12.4      0.95  0.9225  12.3\n",
       "8   16.6      1.12  0.9372  16.3\n",
       "9   14.9      1.02  0.8858  15.4\n",
       "10  13.7      1.01  0.9643  13.0\n",
       "11  15.1      0.90  0.9316  14.4\n",
       "12   7.8      0.57  0.9705  10.0\n",
       "13  11.4      0.78  1.1240  10.2\n",
       "14   9.0      0.74  0.8517   9.5\n",
       "15   1.0      0.13  0.7851   1.5\n",
       "16  17.0      1.26  0.9186  18.5\n",
       "17  12.8      1.08  1.0395  12.6\n",
       "18  15.8      0.96  0.9573  17.5\n",
       "19   4.5      0.42  0.9106   4.9\n",
       "20  14.5      1.01  1.0070  15.9\n",
       "21   7.3      0.61  0.9806   8.5\n",
       "22   8.6      0.69  0.9693  10.6\n",
       "23  15.2      1.02  0.9496  13.9\n",
       "24  12.0      0.82  1.1184  14.9"
      ]
     },
     "execution_count": 2,
     "metadata": {},
     "output_type": "execute_result"
    }
   ],
   "source": [
    "smoke = pd.read_excel('data\\\\HW1-Dataset.xlsx' , sheet_name = 'CO-smoke')\n",
    "smoke"
   ]
  },
  {
   "cell_type": "code",
   "execution_count": 3,
   "metadata": {},
   "outputs": [
    {
     "data": {
      "text/html": [
       "<div>\n",
       "<style scoped>\n",
       "    .dataframe tbody tr th:only-of-type {\n",
       "        vertical-align: middle;\n",
       "    }\n",
       "\n",
       "    .dataframe tbody tr th {\n",
       "        vertical-align: top;\n",
       "    }\n",
       "\n",
       "    .dataframe thead th {\n",
       "        text-align: right;\n",
       "    }\n",
       "</style>\n",
       "<table border=\"1\" class=\"dataframe\">\n",
       "  <thead>\n",
       "    <tr style=\"text-align: right;\">\n",
       "      <th></th>\n",
       "      <th>TAR</th>\n",
       "      <th>NICOTINE</th>\n",
       "      <th>WEIGHT</th>\n",
       "      <th>CO</th>\n",
       "    </tr>\n",
       "  </thead>\n",
       "  <tbody>\n",
       "    <tr>\n",
       "      <th>TAR</th>\n",
       "      <td>1.000000</td>\n",
       "      <td>0.976608</td>\n",
       "      <td>0.490765</td>\n",
       "      <td>0.957485</td>\n",
       "    </tr>\n",
       "    <tr>\n",
       "      <th>NICOTINE</th>\n",
       "      <td>0.976608</td>\n",
       "      <td>1.000000</td>\n",
       "      <td>0.500183</td>\n",
       "      <td>0.925947</td>\n",
       "    </tr>\n",
       "    <tr>\n",
       "      <th>WEIGHT</th>\n",
       "      <td>0.490765</td>\n",
       "      <td>0.500183</td>\n",
       "      <td>1.000000</td>\n",
       "      <td>0.463959</td>\n",
       "    </tr>\n",
       "    <tr>\n",
       "      <th>CO</th>\n",
       "      <td>0.957485</td>\n",
       "      <td>0.925947</td>\n",
       "      <td>0.463959</td>\n",
       "      <td>1.000000</td>\n",
       "    </tr>\n",
       "  </tbody>\n",
       "</table>\n",
       "</div>"
      ],
      "text/plain": [
       "               TAR  NICOTINE    WEIGHT        CO\n",
       "TAR       1.000000  0.976608  0.490765  0.957485\n",
       "NICOTINE  0.976608  1.000000  0.500183  0.925947\n",
       "WEIGHT    0.490765  0.500183  1.000000  0.463959\n",
       "CO        0.957485  0.925947  0.463959  1.000000"
      ]
     },
     "execution_count": 3,
     "metadata": {},
     "output_type": "execute_result"
    }
   ],
   "source": [
    "smoke.corr()"
   ]
  },
  {
   "cell_type": "markdown",
   "metadata": {},
   "source": [
    "## Fit the Model"
   ]
  },
  {
   "cell_type": "code",
   "execution_count": 10,
   "metadata": {},
   "outputs": [
    {
     "data": {
      "text/html": [
       "<table class=\"simpletable\">\n",
       "<tr>\n",
       "        <td>Model:</td>               <td>OLS</td>         <td>Adj. R-squared:</td>     <td>0.907</td> \n",
       "</tr>\n",
       "<tr>\n",
       "  <td>Dependent Variable:</td>        <td>CO</td>               <td>AIC:</td>          <td>93.0187</td>\n",
       "</tr>\n",
       "<tr>\n",
       "         <td>Date:</td>        <td>2020-09-16 18:26</td>        <td>BIC:</td>          <td>97.8942</td>\n",
       "</tr>\n",
       "<tr>\n",
       "   <td>No. Observations:</td>         <td>25</td>          <td>Log-Likelihood:</td>    <td>-42.509</td>\n",
       "</tr>\n",
       "<tr>\n",
       "       <td>Df Model:</td>              <td>3</td>           <td>F-statistic:</td>       <td>78.98</td> \n",
       "</tr>\n",
       "<tr>\n",
       "     <td>Df Residuals:</td>           <td>21</td>        <td>Prob (F-statistic):</td> <td>1.33e-11</td>\n",
       "</tr>\n",
       "<tr>\n",
       "      <td>R-squared:</td>            <td>0.919</td>            <td>Scale:</td>         <td>2.0901</td> \n",
       "</tr>\n",
       "</table>\n",
       "<table class=\"simpletable\">\n",
       "<tr>\n",
       "      <td></td>       <th>Coef.</th>  <th>Std.Err.</th>    <th>t</th>     <th>P>|t|</th>  <th>[0.025</th>  <th>0.975]</th> \n",
       "</tr>\n",
       "<tr>\n",
       "  <th>Intercept</th> <td>3.2022</td>   <td>3.4618</td>  <td>0.9250</td>  <td>0.3655</td>  <td>-3.9969</td> <td>10.4013</td>\n",
       "</tr>\n",
       "<tr>\n",
       "  <th>TAR</th>       <td>0.9626</td>   <td>0.2422</td>  <td>3.9736</td>  <td>0.0007</td>  <td>0.4588</td>  <td>1.4663</td> \n",
       "</tr>\n",
       "<tr>\n",
       "  <th>NICOTINE</th>  <td>-2.6317</td>  <td>3.9006</td>  <td>-0.6747</td> <td>0.5072</td> <td>-10.7433</td> <td>5.4800</td> \n",
       "</tr>\n",
       "<tr>\n",
       "  <th>WEIGHT</th>    <td>-0.1305</td>  <td>3.8853</td>  <td>-0.0336</td> <td>0.9735</td>  <td>-8.2105</td> <td>7.9495</td> \n",
       "</tr>\n",
       "</table>\n",
       "<table class=\"simpletable\">\n",
       "<tr>\n",
       "     <td>Omnibus:</td>     <td>0.052</td>  <td>Durbin-Watson:</td>   <td>2.860</td>\n",
       "</tr>\n",
       "<tr>\n",
       "  <td>Prob(Omnibus):</td>  <td>0.974</td> <td>Jarque-Bera (JB):</td> <td>0.223</td>\n",
       "</tr>\n",
       "<tr>\n",
       "       <td>Skew:</td>     <td>-0.087</td>     <td>Prob(JB):</td>     <td>0.895</td>\n",
       "</tr>\n",
       "<tr>\n",
       "     <td>Kurtosis:</td>    <td>2.572</td>  <td>Condition No.:</td>    <td>242</td> \n",
       "</tr>\n",
       "</table>"
      ],
      "text/plain": [
       "<class 'statsmodels.iolib.summary2.Summary'>\n",
       "\"\"\"\n",
       "                 Results: Ordinary least squares\n",
       "=================================================================\n",
       "Model:              OLS              Adj. R-squared:     0.907   \n",
       "Dependent Variable: CO               AIC:                93.0187 \n",
       "Date:               2020-09-16 18:26 BIC:                97.8942 \n",
       "No. Observations:   25               Log-Likelihood:     -42.509 \n",
       "Df Model:           3                F-statistic:        78.98   \n",
       "Df Residuals:       21               Prob (F-statistic): 1.33e-11\n",
       "R-squared:          0.919            Scale:              2.0901  \n",
       "------------------------------------------------------------------\n",
       "              Coef.   Std.Err.     t     P>|t|    [0.025    0.975]\n",
       "------------------------------------------------------------------\n",
       "Intercept     3.2022    3.4618   0.9250  0.3655   -3.9969  10.4013\n",
       "TAR           0.9626    0.2422   3.9736  0.0007    0.4588   1.4663\n",
       "NICOTINE     -2.6317    3.9006  -0.6747  0.5072  -10.7433   5.4800\n",
       "WEIGHT       -0.1305    3.8853  -0.0336  0.9735   -8.2105   7.9495\n",
       "-----------------------------------------------------------------\n",
       "Omnibus:               0.052        Durbin-Watson:          2.860\n",
       "Prob(Omnibus):         0.974        Jarque-Bera (JB):       0.223\n",
       "Skew:                  -0.087       Prob(JB):               0.895\n",
       "Kurtosis:              2.572        Condition No.:          242  \n",
       "=================================================================\n",
       "\n",
       "\"\"\""
      ]
     },
     "execution_count": 10,
     "metadata": {},
     "output_type": "execute_result"
    }
   ],
   "source": [
    "smoke = sm.add_constant(smoke)\n",
    "model = ols('CO ~ TAR + NICOTINE + WEIGHT', data = smoke).fit()\n",
    "model.summary2()"
   ]
  },
  {
   "cell_type": "code",
   "execution_count": 4,
   "metadata": {},
   "outputs": [
    {
     "data": {
      "text/html": [
       "<table class=\"simpletable\">\n",
       "<tr>\n",
       "        <td>Model:</td>               <td>OLS</td>         <td>Adj. R-squared:</td>     <td>0.907</td> \n",
       "</tr>\n",
       "<tr>\n",
       "  <td>Dependent Variable:</td>        <td>CO</td>               <td>AIC:</td>          <td>93.0187</td>\n",
       "</tr>\n",
       "<tr>\n",
       "         <td>Date:</td>        <td>2020-09-16 18:24</td>        <td>BIC:</td>          <td>97.8942</td>\n",
       "</tr>\n",
       "<tr>\n",
       "   <td>No. Observations:</td>         <td>25</td>          <td>Log-Likelihood:</td>    <td>-42.509</td>\n",
       "</tr>\n",
       "<tr>\n",
       "       <td>Df Model:</td>              <td>3</td>           <td>F-statistic:</td>       <td>78.98</td> \n",
       "</tr>\n",
       "<tr>\n",
       "     <td>Df Residuals:</td>           <td>21</td>        <td>Prob (F-statistic):</td> <td>1.33e-11</td>\n",
       "</tr>\n",
       "<tr>\n",
       "      <td>R-squared:</td>            <td>0.919</td>            <td>Scale:</td>         <td>2.0901</td> \n",
       "</tr>\n",
       "</table>\n",
       "<table class=\"simpletable\">\n",
       "<tr>\n",
       "      <td></td>      <th>Coef.</th>  <th>Std.Err.</th>    <th>t</th>     <th>P>|t|</th>  <th>[0.025</th>  <th>0.975]</th> \n",
       "</tr>\n",
       "<tr>\n",
       "  <th>const</th>    <td>3.2022</td>   <td>3.4618</td>  <td>0.9250</td>  <td>0.3655</td>  <td>-3.9969</td> <td>10.4013</td>\n",
       "</tr>\n",
       "<tr>\n",
       "  <th>TAR</th>      <td>0.9626</td>   <td>0.2422</td>  <td>3.9736</td>  <td>0.0007</td>  <td>0.4588</td>  <td>1.4663</td> \n",
       "</tr>\n",
       "<tr>\n",
       "  <th>NICOTINE</th> <td>-2.6317</td>  <td>3.9006</td>  <td>-0.6747</td> <td>0.5072</td> <td>-10.7433</td> <td>5.4800</td> \n",
       "</tr>\n",
       "<tr>\n",
       "  <th>WEIGHT</th>   <td>-0.1305</td>  <td>3.8853</td>  <td>-0.0336</td> <td>0.9735</td>  <td>-8.2105</td> <td>7.9495</td> \n",
       "</tr>\n",
       "</table>\n",
       "<table class=\"simpletable\">\n",
       "<tr>\n",
       "     <td>Omnibus:</td>     <td>0.052</td>  <td>Durbin-Watson:</td>   <td>2.860</td>\n",
       "</tr>\n",
       "<tr>\n",
       "  <td>Prob(Omnibus):</td>  <td>0.974</td> <td>Jarque-Bera (JB):</td> <td>0.223</td>\n",
       "</tr>\n",
       "<tr>\n",
       "       <td>Skew:</td>     <td>-0.087</td>     <td>Prob(JB):</td>     <td>0.895</td>\n",
       "</tr>\n",
       "<tr>\n",
       "     <td>Kurtosis:</td>    <td>2.572</td>  <td>Condition No.:</td>    <td>242</td> \n",
       "</tr>\n",
       "</table>"
      ],
      "text/plain": [
       "<class 'statsmodels.iolib.summary2.Summary'>\n",
       "\"\"\"\n",
       "                 Results: Ordinary least squares\n",
       "=================================================================\n",
       "Model:              OLS              Adj. R-squared:     0.907   \n",
       "Dependent Variable: CO               AIC:                93.0187 \n",
       "Date:               2020-09-16 18:24 BIC:                97.8942 \n",
       "No. Observations:   25               Log-Likelihood:     -42.509 \n",
       "Df Model:           3                F-statistic:        78.98   \n",
       "Df Residuals:       21               Prob (F-statistic): 1.33e-11\n",
       "R-squared:          0.919            Scale:              2.0901  \n",
       "------------------------------------------------------------------\n",
       "              Coef.   Std.Err.     t     P>|t|    [0.025    0.975]\n",
       "------------------------------------------------------------------\n",
       "const         3.2022    3.4618   0.9250  0.3655   -3.9969  10.4013\n",
       "TAR           0.9626    0.2422   3.9736  0.0007    0.4588   1.4663\n",
       "NICOTINE     -2.6317    3.9006  -0.6747  0.5072  -10.7433   5.4800\n",
       "WEIGHT       -0.1305    3.8853  -0.0336  0.9735   -8.2105   7.9495\n",
       "-----------------------------------------------------------------\n",
       "Omnibus:               0.052        Durbin-Watson:          2.860\n",
       "Prob(Omnibus):         0.974        Jarque-Bera (JB):       0.223\n",
       "Skew:                  -0.087       Prob(JB):               0.895\n",
       "Kurtosis:              2.572        Condition No.:          242  \n",
       "=================================================================\n",
       "\n",
       "\"\"\""
      ]
     },
     "execution_count": 4,
     "metadata": {},
     "output_type": "execute_result"
    }
   ],
   "source": [
    "smoke = sm.add_constant(smoke)\n",
    "model = sm.OLS(smoke['CO'], smoke.drop('CO', axis = 1)).fit()\n",
    "model.summary2()"
   ]
  },
  {
   "cell_type": "markdown",
   "metadata": {},
   "source": [
    "TAR and WEIGHT are significant at alpha = 0.05 and NICOTINE is not significant in this model. So, we'll remove TAR that's the most significant variable then refit the model."
   ]
  },
  {
   "cell_type": "code",
   "execution_count": 5,
   "metadata": {},
   "outputs": [
    {
     "data": {
      "text/html": [
       "<table class=\"simpletable\">\n",
       "<tr>\n",
       "        <td>Model:</td>               <td>OLS</td>         <td>Adj. R-squared:</td>     <td>0.844</td> \n",
       "</tr>\n",
       "<tr>\n",
       "  <td>Dependent Variable:</td>        <td>CO</td>               <td>AIC:</td>         <td>105.0357</td>\n",
       "</tr>\n",
       "<tr>\n",
       "         <td>Date:</td>        <td>2020-09-16 18:24</td>        <td>BIC:</td>         <td>108.6924</td>\n",
       "</tr>\n",
       "<tr>\n",
       "   <td>No. Observations:</td>         <td>25</td>          <td>Log-Likelihood:</td>    <td>-49.518</td>\n",
       "</tr>\n",
       "<tr>\n",
       "       <td>Df Model:</td>              <td>2</td>           <td>F-statistic:</td>       <td>66.13</td> \n",
       "</tr>\n",
       "<tr>\n",
       "     <td>Df Residuals:</td>           <td>22</td>        <td>Prob (F-statistic):</td> <td>4.97e-10</td>\n",
       "</tr>\n",
       "<tr>\n",
       "      <td>R-squared:</td>            <td>0.857</td>            <td>Scale:</td>         <td>3.4952</td> \n",
       "</tr>\n",
       "</table>\n",
       "<table class=\"simpletable\">\n",
       "<tr>\n",
       "      <td></td>      <th>Coef.</th>  <th>Std.Err.</th>    <th>t</th>    <th>P>|t|</th>  <th>[0.025</th>  <th>0.975]</th> \n",
       "</tr>\n",
       "<tr>\n",
       "  <th>const</th>    <td>1.6140</td>   <td>4.4466</td>  <td>0.3630</td> <td>0.7201</td>  <td>-7.6078</td> <td>10.8357</td>\n",
       "</tr>\n",
       "<tr>\n",
       "  <th>NICOTINE</th> <td>12.3881</td>  <td>1.2447</td>  <td>9.9524</td> <td>0.0000</td>  <td>9.8067</td>  <td>14.9695</td>\n",
       "</tr>\n",
       "<tr>\n",
       "  <th>WEIGHT</th>   <td>0.0588</td>   <td>5.0240</td>  <td>0.0117</td> <td>0.9908</td> <td>-10.3602</td> <td>10.4779</td>\n",
       "</tr>\n",
       "</table>\n",
       "<table class=\"simpletable\">\n",
       "<tr>\n",
       "     <td>Omnibus:</td>    <td>0.376</td>  <td>Durbin-Watson:</td>   <td>2.676</td>\n",
       "</tr>\n",
       "<tr>\n",
       "  <td>Prob(Omnibus):</td> <td>0.829</td> <td>Jarque-Bera (JB):</td> <td>0.520</td>\n",
       "</tr>\n",
       "<tr>\n",
       "       <td>Skew:</td>     <td>0.215</td>     <td>Prob(JB):</td>     <td>0.771</td>\n",
       "</tr>\n",
       "<tr>\n",
       "     <td>Kurtosis:</td>   <td>2.440</td>  <td>Condition No.:</td>    <td>30</td>  \n",
       "</tr>\n",
       "</table>"
      ],
      "text/plain": [
       "<class 'statsmodels.iolib.summary2.Summary'>\n",
       "\"\"\"\n",
       "                 Results: Ordinary least squares\n",
       "=================================================================\n",
       "Model:              OLS              Adj. R-squared:     0.844   \n",
       "Dependent Variable: CO               AIC:                105.0357\n",
       "Date:               2020-09-16 18:24 BIC:                108.6924\n",
       "No. Observations:   25               Log-Likelihood:     -49.518 \n",
       "Df Model:           2                F-statistic:        66.13   \n",
       "Df Residuals:       22               Prob (F-statistic): 4.97e-10\n",
       "R-squared:          0.857            Scale:              3.4952  \n",
       "------------------------------------------------------------------\n",
       "               Coef.   Std.Err.    t     P>|t|    [0.025    0.975]\n",
       "------------------------------------------------------------------\n",
       "const          1.6140    4.4466  0.3630  0.7201   -7.6078  10.8357\n",
       "NICOTINE      12.3881    1.2447  9.9524  0.0000    9.8067  14.9695\n",
       "WEIGHT         0.0588    5.0240  0.0117  0.9908  -10.3602  10.4779\n",
       "-----------------------------------------------------------------\n",
       "Omnibus:              0.376        Durbin-Watson:           2.676\n",
       "Prob(Omnibus):        0.829        Jarque-Bera (JB):        0.520\n",
       "Skew:                 0.215        Prob(JB):                0.771\n",
       "Kurtosis:             2.440        Condition No.:           30   \n",
       "=================================================================\n",
       "\n",
       "\"\"\""
      ]
     },
     "execution_count": 5,
     "metadata": {},
     "output_type": "execute_result"
    }
   ],
   "source": [
    "model1 = sm.OLS(smoke['CO'], smoke.drop(columns = ['CO', 'TAR'])).fit()\n",
    "model1.summary2()"
   ]
  },
  {
   "cell_type": "markdown",
   "metadata": {},
   "source": [
    "In refitted model, p-value of NICOTINE is now significant at 5%. that's mean TAR and NICOTINE are significantly affect CO2 amount and it's not independent from each other"
   ]
  },
  {
   "cell_type": "code",
   "execution_count": 6,
   "metadata": {},
   "outputs": [],
   "source": [
    "import numpy.linalg as LA\n",
    "\n",
    "def press(Xreg, resid):\n",
    "    H = Xreg@LA.pinv(Xreg)\n",
    "    hii = np.diag(H)\n",
    "    return(LA.norm(resid/(1-hii))**2.0)\n",
    "\n",
    "def r2pred(Xreg, model):\n",
    "    SST = model.centered_tss\n",
    "    SSE = press(Xreg, model.resid)\n",
    "    return (1-SSE/SST)"
   ]
  },
  {
   "cell_type": "code",
   "execution_count": 7,
   "metadata": {},
   "outputs": [
    {
     "data": {
      "text/plain": [
       "0.8340397278700217"
      ]
     },
     "execution_count": 7,
     "metadata": {},
     "output_type": "execute_result"
    }
   ],
   "source": [
    "r2pred(smoke.drop(['CO',], axis = 1), model)"
   ]
  },
  {
   "cell_type": "markdown",
   "metadata": {},
   "source": [
    "<h1>2)</h1>\n",
    "\n",
    "A study to determine if a common pulsing electromagnetic field (PEMF)\n",
    "treatment could moderate the substantial osteopenia that occurs after forearm\n",
    "disuse was conducted. Subjects were randomized into four groups after a\n",
    "distal radius fracture, or carpal surgery requiring immobilization in a cast.\n",
    "Active or identical sham PEMF transducers were worn on the distal forearm\n",
    "for 1, 2, or 4 h/day for 8 weeks starting after cast removal (\"baseline\") when\n",
    "bone density continues to decline. Bone mineral density (BMD) and bone\n",
    "geometry were measured in the distal forearm by dual energy X-ray\n",
    "absorptiometry (DXA) and peripheral quantitative computed tomography\n",
    "(pQCT). The data below are the percent losses in BMD measurements on the\n",
    "radius after 16 weeks for patients wearing the active or sham PEMF\n",
    "transducers.\n",
    "\n",
    "a. Is there evidence to support a clain that PEMF usage affects BMD loss?\n",
    "If so, analyze the data to determine which specific treatments produce the\n",
    "differences.\n",
    "\n",
    "b. Analyze the residuals and comment on the model assumptions and accuracy"
   ]
  },
  {
   "cell_type": "code",
   "execution_count": 8,
   "metadata": {
    "scrolled": true
   },
   "outputs": [
    {
     "data": {
      "image/png": "[encoded data removed]",
      "text/plain": [
       "<Figure size 432x288 with 1 Axes>"
      ]
     },
     "metadata": {
      "needs_background": "light"
     },
     "output_type": "display_data"
    }
   ],
   "source": [
    "import seaborn as sns\n",
    "import matplotlib.pyplot as plt\n",
    "\n",
    "\n",
    "pemf = pd.read_excel('data\\\\HW1-Dataset.xlsx', sheet_name = 'PEMF')\n",
    "\n",
    "Sham = pemf['Sham']\n",
    "PEMF1H = pemf['PEMF1H']\n",
    "PEMF2H = pemf['PEMF2H']\n",
    "PEMF4H = pemf['PEMF4H']\n",
    "\n",
    "pemf1 = pd.concat([Sham, PEMF1H, PEMF2H, PEMF4H], ignore_index = True)\n",
    "\n",
    "# Create another form of PEMF DataFrame 'pemfx'\n",
    "pemfx = pd.DataFrame({'Time': np.repeat(['Sham', 'PEMF1H', 'PEMF2H', 'PEMF4H'], 20),\n",
    "                     'BMD':pemf1})\n",
    "\n",
    "# Generate box plot\n",
    "sns.boxplot(x = 'Time', y = 'BMD', data = pemfx)\n",
    "plt.show()"
   ]
  },
  {
   "cell_type": "markdown",
   "metadata": {},
   "source": [
    "The box plot shows that mean differences of these boxes is probably due to chance."
   ]
  },
  {
   "cell_type": "code",
   "execution_count": 35,
   "metadata": {
    "scrolled": false
   },
   "outputs": [
    {
     "data": {
      "text/html": [
       "<div>\n",
       "<style scoped>\n",
       "    .dataframe tbody tr th:only-of-type {\n",
       "        vertical-align: middle;\n",
       "    }\n",
       "\n",
       "    .dataframe tbody tr th {\n",
       "        vertical-align: top;\n",
       "    }\n",
       "\n",
       "    .dataframe thead th {\n",
       "        text-align: right;\n",
       "    }\n",
       "</style>\n",
       "<table border=\"1\" class=\"dataframe\">\n",
       "  <thead>\n",
       "    <tr style=\"text-align: right;\">\n",
       "      <th></th>\n",
       "      <th>df</th>\n",
       "      <th>sum_sq</th>\n",
       "      <th>mean_sq</th>\n",
       "      <th>F</th>\n",
       "      <th>PR(&gt;F)</th>\n",
       "    </tr>\n",
       "  </thead>\n",
       "  <tbody>\n",
       "    <tr>\n",
       "      <th>Time</th>\n",
       "      <td>3.0</td>\n",
       "      <td>10.043504</td>\n",
       "      <td>3.347835</td>\n",
       "      <td>1.297941</td>\n",
       "      <td>0.281326</td>\n",
       "    </tr>\n",
       "    <tr>\n",
       "      <th>Residual</th>\n",
       "      <td>76.0</td>\n",
       "      <td>196.030085</td>\n",
       "      <td>2.579343</td>\n",
       "      <td>NaN</td>\n",
       "      <td>NaN</td>\n",
       "    </tr>\n",
       "  </tbody>\n",
       "</table>\n",
       "</div>"
      ],
      "text/plain": [
       "            df      sum_sq   mean_sq         F    PR(>F)\n",
       "Time       3.0   10.043504  3.347835  1.297941  0.281326\n",
       "Residual  76.0  196.030085  2.579343       NaN       NaN"
      ]
     },
     "execution_count": 35,
     "metadata": {},
     "output_type": "execute_result"
    }
   ],
   "source": [
    "from statsmodels.formula.api import ols\n",
    "from statsmodels.stats.anova import anova_lm\n",
    "\n",
    "model1 = ols('BMD ~ Time', data = pemfx).fit()\n",
    "anv = sm.stats.anova_lm(model1) \n",
    "anv"
   ]
  },
  {
   "cell_type": "code",
   "execution_count": 9,
   "metadata": {},
   "outputs": [
    {
     "data": {
      "text/html": [
       "<div>\n",
       "<style scoped>\n",
       "    .dataframe tbody tr th:only-of-type {\n",
       "        vertical-align: middle;\n",
       "    }\n",
       "\n",
       "    .dataframe tbody tr th {\n",
       "        vertical-align: top;\n",
       "    }\n",
       "\n",
       "    .dataframe thead th {\n",
       "        text-align: right;\n",
       "    }\n",
       "</style>\n",
       "<table border=\"1\" class=\"dataframe\">\n",
       "  <thead>\n",
       "    <tr style=\"text-align: right;\">\n",
       "      <th></th>\n",
       "      <th>df</th>\n",
       "      <th>sum_sq</th>\n",
       "      <th>mean_sq</th>\n",
       "      <th>F</th>\n",
       "      <th>PR(&gt;F)</th>\n",
       "    </tr>\n",
       "  </thead>\n",
       "  <tbody>\n",
       "    <tr>\n",
       "      <th>C(Time)</th>\n",
       "      <td>3.0</td>\n",
       "      <td>10.043504</td>\n",
       "      <td>3.347835</td>\n",
       "      <td>1.297941</td>\n",
       "      <td>0.281326</td>\n",
       "    </tr>\n",
       "    <tr>\n",
       "      <th>Residual</th>\n",
       "      <td>76.0</td>\n",
       "      <td>196.030085</td>\n",
       "      <td>2.579343</td>\n",
       "      <td>NaN</td>\n",
       "      <td>NaN</td>\n",
       "    </tr>\n",
       "  </tbody>\n",
       "</table>\n",
       "</div>"
      ],
      "text/plain": [
       "            df      sum_sq   mean_sq         F    PR(>F)\n",
       "C(Time)    3.0   10.043504  3.347835  1.297941  0.281326\n",
       "Residual  76.0  196.030085  2.579343       NaN       NaN"
      ]
     },
     "execution_count": 9,
     "metadata": {},
     "output_type": "execute_result"
    }
   ],
   "source": [
    "from statsmodels.formula.api import ols\n",
    "from statsmodels.stats.anova import anova_lm\n",
    "\n",
    "model1 = ols('BMD ~ C(Time)', data = pemfx).fit()\n",
    "anv = sm.stats.anova_lm(model1) \n",
    "anv"
   ]
  },
  {
   "cell_type": "markdown",
   "metadata": {},
   "source": [
    "In the table above, P-value is greater than 0.05\n",
    "<br>No significant difference at alpha = 0.05, no treatment effect."
   ]
  },
  {
   "cell_type": "code",
   "execution_count": 36,
   "metadata": {},
   "outputs": [
    {
     "name": "stdout",
     "output_type": "stream",
     "text": [
      "Levene's test statistic: 1.03810, p-value: 0.38064\n"
     ]
    }
   ],
   "source": [
    "from scipy import stats\n",
    "\n",
    "y0 = pemf['Sham']\n",
    "y1 = pemf['PEMF1H']\n",
    "y2 = pemf['PEMF2H']\n",
    "y3 = pemf['PEMF4H']\n",
    "f0,pval = stats.levene(y0, y1, y2, y3);\n",
    "print(\"Levene's test statistic: {:.5f}, p-value: {:.5f}\".format(f0,pval))"
   ]
  },
  {
   "cell_type": "markdown",
   "metadata": {},
   "source": [
    "p-value > 0.05\n",
    "<br>that means , the varience is not differ significantly among each treatment."
   ]
  },
  {
   "cell_type": "code",
   "execution_count": 12,
   "metadata": {},
   "outputs": [],
   "source": [
    "def check_anova_normality(group, x):\n",
    "\n",
    "    T = len(x)\n",
    "    \n",
    "    fig = plt.figure(figsize=(10,8))\n",
    "\n",
    "    ax1 = fig.add_subplot(221)\n",
    "    ax2 = fig.add_subplot(222)\n",
    "    ax3 = fig.add_subplot(223)\n",
    "    ax4 = fig.add_subplot(224)\n",
    "\n",
    "    #ax1.plot(x, color='blue', alpha=0.5, linestyle='--', marker='o', ms=4)\n",
    "    n=len(x)\n",
    "    sns.residplot(np.linspace(1,n,n), x, color='blue', ax=ax1)\n",
    "    ax1.set_title('Sequence plot')\n",
    "    \n",
    "    # Scatter plot\n",
    "    #ax2.scatter(x, x.shift(), alpha=0.5, color='red')\n",
    "    #ax2.set_title(r'Scatter plot of $e_n$ vs $e_{n+1}$')\n",
    "    \n",
    "    # Residual groupplot\n",
    "    resid_df = pd.DataFrame({'Group':group, 'Resid':x})\n",
    "    sns.stripplot(x='Group', y='Resid', data=resid_df, ax=ax2) \n",
    "    ax2.set_title('Residuals by treatments')\n",
    "    \n",
    "    # Box plot\n",
    "    #ax2.boxplot(x,showmeans=False)\n",
    "    #ax2.set_title('Boxplot')\n",
    "\n",
    "    # histogram plot\n",
    "    sns.distplot(x, hist=True, kde=True, ax=ax3)\n",
    "    ax3.set_title('Histogram')\n",
    "\n",
    "\n",
    "    # qq plot\n",
    "    sm.graphics.qqplot(x,line='q',ax=ax4)\n",
    "    ax4.set_title('Normal plot')\n",
    "    plt.tight_layout()"
   ]
  },
  {
   "cell_type": "code",
   "execution_count": 24,
   "metadata": {
    "scrolled": true
   },
   "outputs": [
    {
     "data": {
      "image/png": "[encoded data removed]",
      "text/plain": [
       "<Figure size 720x576 with 4 Axes>"
      ]
     },
     "metadata": {
      "needs_background": "light"
     },
     "output_type": "display_data"
    }
   ],
   "source": [
    "check_anova_normality(pemfx['Time'], model1.resid)"
   ]
  },
  {
   "cell_type": "code",
   "execution_count": 20,
   "metadata": {
    "scrolled": true
   },
   "outputs": [
    {
     "name": "stdout",
     "output_type": "stream",
     "text": [
      "Multiple Comparison of Means - Tukey HSD, FWER=0.05\n",
      "===================================================\n",
      "group1 group2 meandiff p-adj   lower  upper  reject\n",
      "---------------------------------------------------\n",
      "PEMF1H PEMF2H  -0.6875 0.5286 -2.0216 0.6466  False\n",
      "PEMF1H PEMF4H    0.185    0.9 -1.1491 1.5191  False\n",
      "PEMF1H   Sham   -0.493 0.7414 -1.8271 0.8411  False\n",
      "PEMF2H PEMF4H   0.8725 0.3217 -0.4616 2.2066  False\n",
      "PEMF2H   Sham   0.1945    0.9 -1.1396 1.5286  False\n",
      "PEMF4H   Sham   -0.678  0.539 -2.0121 0.6561  False\n",
      "---------------------------------------------------\n"
     ]
    },
    {
     "data": {
      "image/png": "[encoded data removed]",
      "text/plain": [
       "<Figure size 720x432 with 1 Axes>"
      ]
     },
     "metadata": {
      "needs_background": "light"
     },
     "output_type": "display_data"
    }
   ],
   "source": [
    "from statsmodels.stats.multicomp import pairwise_tukeyhsd\n",
    "\n",
    "turkey = pairwise_tukeyhsd(pemfx['BMD'], pemfx['Time'], alpha=0.05)\n",
    "print(turkey)\n",
    "turkey.plot_simultaneous();"
   ]
  },
  {
   "cell_type": "markdown",
   "metadata": {},
   "source": [
    "Pairwise Turkey HSD test also showed that, there's no difference in each pairs"
   ]
  }
 ],
 "metadata": {
  "kernelspec": {
   "display_name": "Python 3",
   "language": "python",
   "name": "python3"
  },
  "language_info": {
   "codemirror_mode": {
    "name": "ipython",
    "version": 3
   },
   "file_extension": ".py",
   "mimetype": "text/x-python",
   "name": "python",
   "nbconvert_exporter": "python",
   "pygments_lexer": "ipython3",
   "version": "3.8.3"
  }
 },
 "nbformat": 4,
 "nbformat_minor": 4
}
